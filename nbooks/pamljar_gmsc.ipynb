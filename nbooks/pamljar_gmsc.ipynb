{
 "cells": [
  {
   "cell_type": "code",
   "execution_count": null,
   "id": "ea3a72cb",
   "metadata": {},
   "outputs": [],
   "source": [
    "import os \n",
    "import sys\n",
    "import pandas as pd \n",
    "from sklearn.model_selection import train_test_split\n",
    "from uvars import givemesomecredit_dir,tML_dir\n",
    "sys.path.append(tML_dir)\n",
    "from pamljar import amljar_pipeline"
   ]
  },
  {
   "cell_type": "code",
   "execution_count": 9,
   "id": "7904f725",
   "metadata": {},
   "outputs": [
    {
     "name": "stdout",
     "output_type": "stream",
     "text": [
      "Unique classes: [0, 1]\n"
     ]
    }
   ],
   "source": [
    "datapth = os.path.join(givemesomecredit_dir)\n",
    "train = pd.read_csv(os.path.join(datapth, 'cstraining.csv'))\n",
    "test = pd.read_csv(os.path.join(datapth, 'cstest.csv'))\n",
    "ss = pd.read_csv(os.path.join(datapth, 'cssampleentry.csv'))\n",
    "data = [train, test]\n",
    "for df in data:\n",
    "    df.rename(columns={'Unnamed: 0':'Id'}, inplace=True)\n",
    "\n",
    "del df \n",
    "tcol = 'SeriousDlqin2yrs'\n",
    "fcols = train.drop(['Id',tcol], axis=1).columns.tolist()\n",
    "X_train, X_test, y_train, y_test = train_test_split(train[fcols], train[tcol], test_size=0.1, stratify=train[tcol])\n",
    "train_data = pd.concat([X_train, y_train], axis=1)\n",
    "valid_data = pd.concat([X_test, y_test],axis=1)\n",
    "train_data.shape, valid_data.shape\n",
    "\n",
    "print(f\"Unique classes: {list(train_data[tcol].unique())}\")\n",
    "eval_metric = \"auc\"\n",
    "total_time_limit = 60 * 2  # 20 minutes\n",
    "#ALGOS = ['Random Forest', 'LightGBM', 'Xgboost', 'CatBoost', 'Neural Network']\n",
    "modes = ['Explain', 'Perform', 'Compete']#, 'Optuna']\n",
    "task = \"binary_classification\"\n",
    "submit_dir = os.path.join('submit')\n",
    "os.makedirs(submit_dir, exist_ok=True)"
   ]
  },
  {
   "cell_type": "code",
   "execution_count": null,
   "id": "7e80aa81",
   "metadata": {},
   "outputs": [],
   "source": [
    "amljar_pipeline(save_dir=submit_dir, modes=modes, task=task, eval_metric=eval_metric,\n",
    "                    total_time_limit=total_time_limit, features_selection=True,\n",
    "                    train=train, test=test, fcols=fcols, tcol=tcol)"
   ]
  },
  {
   "cell_type": "code",
   "execution_count": null,
   "id": "a1583212",
   "metadata": {},
   "outputs": [],
   "source": []
  }
 ],
 "metadata": {
  "kernelspec": {
   "display_name": "dcom",
   "language": "python",
   "name": "python3"
  },
  "language_info": {
   "codemirror_mode": {
    "name": "ipython",
    "version": 3
   },
   "file_extension": ".py",
   "mimetype": "text/x-python",
   "name": "python",
   "nbconvert_exporter": "python",
   "pygments_lexer": "ipython3",
   "version": "3.10.0"
  }
 },
 "nbformat": 4,
 "nbformat_minor": 5
}
