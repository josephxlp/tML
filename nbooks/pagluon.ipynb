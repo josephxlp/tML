{
 "cells": [
  {
   "cell_type": "code",
   "execution_count": 2,
   "id": "654fceac",
   "metadata": {},
   "outputs": [
    {
     "name": "stderr",
     "output_type": "stream",
     "text": [
      "c:\\Users\\Joseph\\miniforge3\\envs\\dcom\\lib\\site-packages\\tqdm\\auto.py:21: TqdmWarning: IProgress not found. Please update jupyter and ipywidgets. See https://ipywidgets.readthedocs.io/en/stable/user_install.html\n",
      "  from .autonotebook import tqdm as notebook_tqdm\n"
     ]
    }
   ],
   "source": [
    "import os \n",
    "import sys\n",
    "import pandas as pd \n",
    "from sklearn.model_selection import train_test_split\n",
    "from uvars import givemesomecredit_dir,tML_dir\n",
    "sys.path.append(tML_dir)\n",
    "from pagluon import agluon_pipeline"
   ]
  },
  {
   "cell_type": "markdown",
   "id": "3b13f0e0",
   "metadata": {},
   "source": [
    "1. Regression:\n",
    "For a regression task, we might want to apply post-processing such as clipping the predictions to ensure they stay within a reasonable range.\n",
    "\n",
    "Example 1: Regression with Post-Processing (Clipping)"
   ]
  },
  {
   "cell_type": "code",
   "execution_count": null,
   "id": "8e5cb3d9",
   "metadata": {},
   "outputs": [],
   "source": [
    "# Sample data\n",
    "train_data = pd.DataFrame({'feature1': [1, 2, 3], 'feature2': [4, 5, 6], 'target': [10, 15, 20]})\n",
    "valid_data = pd.DataFrame({'feature1': [4, 5], 'feature2': [7, 8], 'target': [25, 30]})\n",
    "test = pd.DataFrame({'feature1': [6, 7], 'feature2': [9, 10]})\n",
    "\n",
    "# Call function for regression with clipping\n",
    "agluon_pipeline(\n",
    "    expname='ag_tun', \n",
    "    agluon_dir='experiments', \n",
    "    presents=['best_quality'], \n",
    "    problem_type='regression', \n",
    "    eval_metric='rmse', \n",
    "    verbosity=3, \n",
    "    sample_weight=None, \n",
    "    train_data=train_data, \n",
    "    valid_data=valid_data, \n",
    "    test=test, \n",
    "    fcols=['feature1', 'feature2'], \n",
    "    tcol='target', \n",
    "    time_limit=180, \n",
    "    custom_thresholds={'clip': [0, 100]}  # Clipping regression predictions between 0 and 100\n",
    ")\n"
   ]
  },
  {
   "cell_type": "markdown",
   "id": "36b62d9c",
   "metadata": {},
   "source": [
    "Example 2: Regression without Post-Processing:"
   ]
  },
  {
   "cell_type": "code",
   "execution_count": null,
   "id": "912ecd6b",
   "metadata": {},
   "outputs": [],
   "source": [
    "# Call function for regression without clipping\n",
    "agluon_pipeline(\n",
    "    expname='ag_tun', \n",
    "    agluon_dir='experiments/', \n",
    "    presents=['best_quality'], \n",
    "    problem_type='regression', \n",
    "    eval_metric='rmse', \n",
    "    verbosity=3, \n",
    "    sample_weight=None, \n",
    "    train_data=train_data, \n",
    "    valid_data=valid_data, \n",
    "    test=test, \n",
    "    fcols=['feature1', 'feature2'], \n",
    "    tcol='target', \n",
    "    time_limit=180\n",
    ")\n"
   ]
  },
  {
   "cell_type": "markdown",
   "id": "e58417d1",
   "metadata": {},
   "source": [
    "2. Binary Classification:\n",
    "For a binary classification task, we might choose not to apply any post-processing (since binary classification typically uses probabilities directly or a decision threshold). However, you can still use custom thresholds for decision-making.\n",
    "\n",
    "Example 1: Binary Classification with Custom Thresholding (e.g., 0.7)"
   ]
  },
  {
   "cell_type": "code",
   "execution_count": null,
   "id": "c28a4b4d",
   "metadata": {},
   "outputs": [],
   "source": [
    "# Sample binary classification data\n",
    "train_data = pd.DataFrame({'feature1': [1, 2, 3], 'feature2': [4, 5, 6], 'target': [0, 1, 0]})\n",
    "valid_data = pd.DataFrame({'feature1': [4, 5], 'feature2': [7, 8], 'target': [1, 0]})\n",
    "test = pd.DataFrame({'feature1': [6, 7], 'feature2': [9, 10]})\n",
    "\n",
    "# Call function for binary classification with custom decision threshold\n",
    "agluon_pipeline(\n",
    "    expname='ag_tun', \n",
    "    agluon_dir='experiments/', \n",
    "    presents=['best_quality'], \n",
    "    problem_type='binary', \n",
    "    eval_metric='roc_auc', \n",
    "    verbosity=3, \n",
    "    sample_weight=None, \n",
    "    train_data=train_data, \n",
    "    valid_data=valid_data, \n",
    "    test=test, \n",
    "    fcols=['feature1', 'feature2'], \n",
    "    tcol='target', \n",
    "    time_limit=180, \n",
    "    calibrate_decision_threshold=True, \n",
    "    custom_thresholds={'multi_label': 0.7}  # Custom threshold for binary classification\n",
    ")\n"
   ]
  },
  {
   "cell_type": "markdown",
   "id": "c2a4d388",
   "metadata": {},
   "source": [
    "Example 2: Binary Classification without Custom Thresholding:"
   ]
  },
  {
   "cell_type": "code",
   "execution_count": null,
   "id": "410f6bc3",
   "metadata": {},
   "outputs": [],
   "source": [
    "# Call function for binary classification without custom thresholding\n",
    "agluon_pipeline(\n",
    "    expname='ag_tun', \n",
    "    agluon_dir='experiments/', \n",
    "    presents=['best_quality'], \n",
    "    problem_type='binary', \n",
    "    eval_metric='roc_auc', \n",
    "    verbosity=3, \n",
    "    sample_weight=None, \n",
    "    train_data=train_data, \n",
    "    valid_data=valid_data, \n",
    "    test=test, \n",
    "    fcols=['feature1', 'feature2'], \n",
    "    tcol='target', \n",
    "    time_limit=180\n",
    ")\n"
   ]
  },
  {
   "cell_type": "markdown",
   "id": "2706fb48",
   "metadata": {},
   "source": [
    "3. Multiclass Classification:\n",
    "In a multiclass classification task, predictions typically output probabilities for each class. Here, post-processing like setting a custom threshold can be useful for classification, especially if you want to adjust the decision boundaries.\n",
    "\n",
    "Example 1: Multiclass Classification with Custom Thresholding:"
   ]
  },
  {
   "cell_type": "markdown",
   "id": "580842c1",
   "metadata": {},
   "source": [
    "# Sample multiclass classification data\n",
    "train_data = pd.DataFrame({'feature1': [1, 2, 3], 'feature2': [4, 5, 6], 'target': [0, 1, 2]})\n",
    "valid_data = pd.DataFrame({'feature1': [4, 5], 'feature2': [7, 8], 'target': [2, 0]})\n",
    "test = pd.DataFrame({'feature1': [6, 7], 'feature2': [9, 10]})\n",
    "\n",
    "# Call function for multiclass classification with custom thresholds (e.g., thresholding probabilities)\n",
    "agluon_pipeline(\n",
    "    expname='ag_tun', \n",
    "    agluon_dir='experiments/', \n",
    "    presents=['best_quality'], \n",
    "    problem_type='multiclass', \n",
    "    eval_metric='accuracy', \n",
    "    verbosity=3, \n",
    "    sample_weight=None, \n",
    "    train_data=train_data, \n",
    "    valid_data=valid_data, \n",
    "    test=test, \n",
    "    fcols=['feature1', 'feature2'], \n",
    "    tcol='target', \n",
    "    time_limit=180, \n",
    "    custom_thresholds={'multi_label': 0.7}  # Threshold for multiclass classification\n",
    ")\n"
   ]
  },
  {
   "cell_type": "markdown",
   "id": "a829b5a0",
   "metadata": {},
   "source": [
    "Example 2: Multiclass Classification without Custom Thresholding:"
   ]
  },
  {
   "cell_type": "markdown",
   "id": "68185f22",
   "metadata": {},
   "source": [
    "# Call function for multiclass classification without custom thresholding\n",
    "agluon_pipeline(\n",
    "    expname='ag_tun', \n",
    "    agluon_dir='experiments/', \n",
    "    presents=['best_quality'], \n",
    "    problem_type='multiclass', \n",
    "    eval_metric='accuracy', \n",
    "    verbosity=3, \n",
    "    sample_weight=None, \n",
    "    train_data=train_data, \n",
    "    valid_data=valid_data, \n",
    "    test=test, \n",
    "    fcols=['feature1', 'feature2'], \n",
    "    tcol='target', \n",
    "    time_limit=180\n",
    ")\n"
   ]
  }
 ],
 "metadata": {
  "kernelspec": {
   "display_name": "dcom",
   "language": "python",
   "name": "python3"
  },
  "language_info": {
   "codemirror_mode": {
    "name": "ipython",
    "version": 3
   },
   "file_extension": ".py",
   "mimetype": "text/x-python",
   "name": "python",
   "nbconvert_exporter": "python",
   "pygments_lexer": "ipython3",
   "version": "3.10.0"
  }
 },
 "nbformat": 4,
 "nbformat_minor": 5
}
